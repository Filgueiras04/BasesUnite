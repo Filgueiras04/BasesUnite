{
 "cells": [
  {
   "cell_type": "code",
   "execution_count": 1,
   "metadata": {},
   "outputs": [],
   "source": [
    "import pandas as pd\n",
    "import re"
   ]
  },
  {
   "cell_type": "code",
   "execution_count": 2,
   "metadata": {
    "scrolled": true
   },
   "outputs": [],
   "source": [
    "#importando leads incompletos\n",
    "incompletos = pd.read_csv(\"incompletos.csv\", engine = 'python',  encoding='ISO-8859-1', sep=';', error_bad_lines=False)\n",
    "incompletos['Data de criação'] = pd.to_datetime(incompletos['Data de criação'], format = '%d/%m/%Y')\n",
    "incompletos['Celular'] = incompletos['Celular'].astype(str)"
   ]
  },
  {
   "cell_type": "code",
   "execution_count": 3,
   "metadata": {},
   "outputs": [],
   "source": [
    "#ordenando por data de criação e removendo duplicidades\n",
    "incompletos = incompletos.sort_values('Data de criação')\n",
    "incompletos = incompletos.drop_duplicates(subset = 'Celular', keep = 'first')\n",
    "incompletos = incompletos.drop_duplicates(subset = 'Email', keep = 'first')"
   ]
  },
  {
   "cell_type": "code",
   "execution_count": 4,
   "metadata": {},
   "outputs": [],
   "source": [
    "#filtrando por data\n",
    "filtro = incompletos['Data de criação'] > '2021-03-29'\n",
    "incompletos = incompletos[filtro]"
   ]
  },
  {
   "cell_type": "code",
   "execution_count": 5,
   "metadata": {},
   "outputs": [],
   "source": [
    "#importando oportunidades\n",
    "oportunidades = pd.read_csv(\"oportunidades.csv\", engine = 'python',  encoding='ISO-8859-1', sep=';', error_bad_lines=False)\n",
    "oportunidades = oportunidades.rename(columns={'Conta pessoal: Celular': 'Celular', 'Conta pessoal: Email' : 'Email'})"
   ]
  },
  {
   "cell_type": "code",
   "execution_count": 6,
   "metadata": {},
   "outputs": [],
   "source": [
    "#Retirando leads que são inscritos/matriculados\n",
    "incompletos = pd.merge(incompletos, oportunidades[['ID da oportunidade', 'Email']], on='Email', how='left')\n",
    "incompletos = incompletos.drop_duplicates(subset = 'Email', keep = 'first')\n",
    "filtro = incompletos['ID da oportunidade'].isnull()\n",
    "incompletos = incompletos[filtro]\n",
    "incompletos = incompletos.drop(columns='ID da oportunidade')\n",
    "incompletos = pd.merge(incompletos, oportunidades[['ID da oportunidade', 'Celular']], on='Celular', how='left')\n",
    "incompletos = incompletos.drop_duplicates(subset = 'Celular', keep = 'first')\n",
    "filtro = incompletos['ID da oportunidade'].isnull()\n",
    "incompletos = incompletos[filtro]\n",
    "incompletos = incompletos.drop(columns='ID da oportunidade')"
   ]
  },
  {
   "cell_type": "code",
   "execution_count": 7,
   "metadata": {},
   "outputs": [
    {
     "data": {
      "text/plain": [
       "ID principal          541\n",
       "Data de criação       541\n",
       "Primeiro Nome         541\n",
       "Instituição           541\n",
       "Celular               541\n",
       "Email                 541\n",
       "Curso de Interesse     17\n",
       "Sub-origem do lead    541\n",
       "dtype: int64"
      ]
     },
     "execution_count": 7,
     "metadata": {},
     "output_type": "execute_result"
    }
   ],
   "source": [
    "#Comparando com a ultima planilha enviada e retirando quem já foi enviado\n",
    "incompletos_old = pd.read_excel(\"incompletos_old.xlsx\")\n",
    "incompletos_old = incompletos_old.drop(columns=['Data de criação', 'Nome', 'Instituição', 'Celular', 'Email', 'Sub-origem do lead', 'TIPO'])\n",
    "incompletos = pd.merge(incompletos, incompletos_old, on='ID principal', how='left')\n",
    "incompletos = incompletos.drop_duplicates(subset = 'ID principal', keep = 'first')\n",
    "filtro = incompletos['BASE'].isnull()\n",
    "incompletos = incompletos[filtro]\n",
    "incompletos = incompletos.drop(columns='BASE')"
   ]
  },
  {
   "cell_type": "code",
   "execution_count": 8,
   "metadata": {},
   "outputs": [
    {
     "name": "stdout",
     "output_type": "stream",
     "text": [
      "ID principal          540\n",
      "Data de criação       540\n",
      "Primeiro Nome         540\n",
      "Instituição           540\n",
      "Celular               540\n",
      "Email                 540\n",
      "Curso de Interesse     17\n",
      "Sub-origem do lead    540\n",
      "dtype: int64\n"
     ]
    }
   ],
   "source": [
    "#Fazer validação de telefone\n",
    "regex = r\"(\\d\\d\\d\\d)\\d{0,0}\\1\"\n",
    "for tel in incompletos['Celular']:\n",
    "    matches = re.findall(regex, tel)\n",
    "    if matches != []:\n",
    "        filtro = incompletos['Celular'] != tel\n",
    "        incompletos = incompletos[filtro]"
   ]
  },
  {
   "cell_type": "code",
   "execution_count": null,
   "metadata": {},
   "outputs": [],
   "source": []
  }
 ],
 "metadata": {
  "kernelspec": {
   "display_name": "Python 3",
   "language": "python",
   "name": "python3"
  },
  "language_info": {
   "codemirror_mode": {
    "name": "ipython",
    "version": 3
   },
   "file_extension": ".py",
   "mimetype": "text/x-python",
   "name": "python",
   "nbconvert_exporter": "python",
   "pygments_lexer": "ipython3",
   "version": "3.8.8"
  }
 },
 "nbformat": 4,
 "nbformat_minor": 4
}
